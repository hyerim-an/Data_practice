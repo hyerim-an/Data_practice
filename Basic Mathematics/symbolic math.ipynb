{
 "cells": [
  {
   "cell_type": "markdown",
   "metadata": {},
   "source": [
    "# 방정식\n",
    "\n",
    "### 파이썬에서 기호 수학을 위한 라이브러리 > SymPy"
   ]
  },
  {
   "cell_type": "code",
   "execution_count": 7,
   "metadata": {},
   "outputs": [
    {
     "data": {
      "text/plain": [
       "[6]"
      ]
     },
     "execution_count": 7,
     "metadata": {},
     "output_type": "execute_result"
    }
   ],
   "source": [
    "# 문제(1)\n",
    "# 4=k-2 \n",
    "# k=4+2=6\n",
    "\n",
    "from sympy import Symbol, solve\n",
    "k = Symbol('k')\n",
    "equation = k-2-4\n",
    "solve(equation)"
   ]
  },
  {
   "cell_type": "code",
   "execution_count": 8,
   "metadata": {},
   "outputs": [
    {
     "data": {
      "text/plain": [
       "[5]"
      ]
     },
     "execution_count": 8,
     "metadata": {},
     "output_type": "execute_result"
    }
   ],
   "source": [
    "# 문제(2)\n",
    "# 10=2k\n",
    "# k=10/2=5\n",
    "\n",
    "from sympy import Symbol, solve\n",
    "k=Symbol('k')\n",
    "equation = 2*k-10\n",
    "solve(equation)"
   ]
  },
  {
   "cell_type": "code",
   "execution_count": 9,
   "metadata": {},
   "outputs": [
    {
     "data": {
      "text/plain": [
       "[16]"
      ]
     },
     "execution_count": 9,
     "metadata": {},
     "output_type": "execute_result"
    }
   ],
   "source": [
    "# 문제(3)\n",
    "# k/2=8\n",
    "# k=2X8=16\n",
    "\n",
    "from sympy import Symbol, solve\n",
    "k=Symbol('k')\n",
    "equation = k / 2-8\n",
    "solve(equation)"
   ]
  },
  {
   "cell_type": "markdown",
   "metadata": {},
   "source": [
    "# 연립방정식\n",
    "\n",
    "문제 : 3x+y=2 / x-2y=3"
   ]
  },
  {
   "cell_type": "code",
   "execution_count": 10,
   "metadata": {},
   "outputs": [
    {
     "data": {
      "text/plain": [
       "[{x: 1, y: -1}]"
      ]
     },
     "execution_count": 10,
     "metadata": {},
     "output_type": "execute_result"
    }
   ],
   "source": [
    "# Sympy 라이브러리를 불러오고, 사용할 기호변수 x,y 선언\n",
    "\n",
    "from sympy import Symbol, solve\n",
    "x = Symbol('x')\n",
    "y = Symbol('y')\n",
    "\n",
    "# 방정식을 풀려면 \"(일차방적식)=0\"으로 만둘어 줘야함\n",
    "# 이를 위해 모든 식을 좌변으로 이항한 후 equation1과 equation2로 변수화\n",
    "equation1 = 3*x+y-2\n",
    "equation2 = x-2*y-3\n",
    "\n",
    "# 방정식 풀려면 Sympy에 내장된 solve() 함수 사용\n",
    "# solve() 함수 안에 equation 차례로 입력하면 방정식을 풀어서 결과를 반환\n",
    "\n",
    "solve((equation1, equation2), dict=True)  # dict 옵션은 해를 딕셔너리 형태로 반환"
   ]
  },
  {
   "cell_type": "markdown",
   "metadata": {},
   "source": [
    "# 거듭제곱과 거듭제곱근\n",
    "\n",
    "math.sqrt() 함수 사용"
   ]
  },
  {
   "cell_type": "code",
   "execution_count": 11,
   "metadata": {},
   "outputs": [
    {
     "data": {
      "text/plain": [
       "32"
      ]
     },
     "execution_count": 11,
     "metadata": {},
     "output_type": "execute_result"
    }
   ],
   "source": [
    "# 거듭제곱의 표현은 **으로\n",
    "\n",
    "2**5"
   ]
  },
  {
   "cell_type": "code",
   "execution_count": 12,
   "metadata": {},
   "outputs": [
    {
     "data": {
      "text/plain": [
       "1.4142135623730951"
      ]
     },
     "execution_count": 12,
     "metadata": {},
     "output_type": "execute_result"
    }
   ],
   "source": [
    "import math\n",
    "math.sqrt(2)"
   ]
  },
  {
   "cell_type": "code",
   "execution_count": 14,
   "metadata": {},
   "outputs": [
    {
     "data": {
      "text/plain": [
       "3.0"
      ]
     },
     "execution_count": 14,
     "metadata": {},
     "output_type": "execute_result"
    }
   ],
   "source": [
    "math.sqrt(9)"
   ]
  },
  {
   "cell_type": "markdown",
   "metadata": {},
   "source": [
    "# 인수분해\n",
    "\n",
    "Sympy의 expand, factor, Symbol을 호출하고 기호변수 x 선언"
   ]
  },
  {
   "cell_type": "code",
   "execution_count": 16,
   "metadata": {},
   "outputs": [],
   "source": [
    "from sympy import expand, factor, Symbol\n",
    "x = Symbol('x')"
   ]
  },
  {
   "cell_type": "code",
   "execution_count": 17,
   "metadata": {},
   "outputs": [
    {
     "data": {
      "text/latex": [
       "$\\displaystyle x^{2} + 6 x + 5$"
      ],
      "text/plain": [
       "x**2 + 6*x + 5"
      ]
     },
     "execution_count": 17,
     "metadata": {},
     "output_type": "execute_result"
    }
   ],
   "source": [
    "# expand()는 수식을 (x+1) X (x+5) 로 전개\n",
    "\n",
    "expand((x+1)*(x+5))"
   ]
  },
  {
   "cell_type": "code",
   "execution_count": 18,
   "metadata": {},
   "outputs": [
    {
     "data": {
      "text/latex": [
       "$\\displaystyle \\left(x + 1\\right) \\left(x + 5\\right)$"
      ],
      "text/plain": [
       "(x + 1)*(x + 5)"
      ]
     },
     "execution_count": 18,
     "metadata": {},
     "output_type": "execute_result"
    }
   ],
   "source": [
    "# factor()는 인수분해하는 함수로, x2 + 6x +5를 인수분해\n",
    "\n",
    "factor(x**2 + 6*x + 5)"
   ]
  },
  {
   "cell_type": "markdown",
   "metadata": {},
   "source": [
    "# 지수함수\n",
    "\n",
    "##### math.pow(x,y) : x의 y 제곱\n",
    "##### math.sqrt(x) : x의 제곱근\n",
    "##### math.exp(x) : e(자연상수, 2.718281828459045)의 x 제곱"
   ]
  },
  {
   "cell_type": "code",
   "execution_count": 21,
   "metadata": {},
   "outputs": [
    {
     "name": "stdout",
     "output_type": "stream",
     "text": [
      "pow 결과:  32.0\n",
      "sqrt 결과:  1.4142135623730951\n",
      "exp 결과:  7.38905609893065\n"
     ]
    }
   ],
   "source": [
    "import math\n",
    "\n",
    "# 2의 5 제곱\n",
    "pow = math.pow(2,5)\n",
    "print(\"pow 결과: \", pow)\n",
    "\n",
    "# 2의 제곱근\n",
    "sqrt = math.sqrt(2)\n",
    "print(\"sqrt 결과: \", sqrt)\n",
    "\n",
    "# e의 2 제곱\n",
    "exp = math.exp(2)\n",
    "print(\"exp 결과: \", exp)"
   ]
  },
  {
   "cell_type": "markdown",
   "metadata": {},
   "source": [
    "# 로그함수\n",
    "\n",
    "log() 함수 사용"
   ]
  },
  {
   "cell_type": "code",
   "execution_count": 23,
   "metadata": {},
   "outputs": [
    {
     "data": {
      "text/plain": [
       "0.5"
      ]
     },
     "execution_count": 23,
     "metadata": {},
     "output_type": "execute_result"
    }
   ],
   "source": [
    "math.log(2,4)  # 밑이 4고, 진수가 2인 로그:log42"
   ]
  },
  {
   "cell_type": "code",
   "execution_count": 24,
   "metadata": {},
   "outputs": [
    {
     "data": {
      "text/plain": [
       "2.0"
      ]
     },
     "execution_count": 24,
     "metadata": {},
     "output_type": "execute_result"
    }
   ],
   "source": [
    "math.log(4,2)  # 밑이 2고, 진수가 4인 로그:log24"
   ]
  },
  {
   "cell_type": "markdown",
   "metadata": {},
   "source": [
    "# 미분\n",
    "\n",
    "극한값 구하기위해 Sympy 라이브러리에서 Limit, S, Symbol 클래스 호출"
   ]
  },
  {
   "cell_type": "code",
   "execution_count": 25,
   "metadata": {
    "scrolled": true
   },
   "outputs": [
    {
     "data": {
      "text/latex": [
       "$\\displaystyle 0$"
      ],
      "text/plain": [
       "0"
      ]
     },
     "execution_count": 25,
     "metadata": {},
     "output_type": "execute_result"
    }
   ],
   "source": [
    "from sympy import Limit, S, Symbol\n",
    "\n",
    "# x 변수를 생성하고, x가 0으로 한없이 가까워질 때의 1/x에 대한 극한값을 구함\n",
    "x = Symbol('x')\n",
    "Limit(1/x, x, S.Infinity).doit()"
   ]
  },
  {
   "cell_type": "markdown",
   "metadata": {},
   "source": [
    "Limit은 기본적으로 인수 세 개 전달. 첫 번째는 극한을 구하는 함수 1/x, 두 번째는 x 변수, 세 번쨰는 x변수가 다가가는 값. 이때 무한대를 정의하려고 S함수(S.Infinity) 사용"
   ]
  },
  {
   "cell_type": "code",
   "execution_count": 26,
   "metadata": {},
   "outputs": [
    {
     "data": {
      "text/latex": [
       "$\\displaystyle \\infty$"
      ],
      "text/plain": [
       "oo"
      ]
     },
     "execution_count": 26,
     "metadata": {},
     "output_type": "execute_result"
    }
   ],
   "source": [
    "Limit(1/x, x, 0).doit()   # 우극한값 구하기"
   ]
  },
  {
   "cell_type": "markdown",
   "metadata": {},
   "source": [
    "극한값 계산할 때 doit() 함수"
   ]
  },
  {
   "cell_type": "code",
   "execution_count": 27,
   "metadata": {},
   "outputs": [
    {
     "data": {
      "text/latex": [
       "$\\displaystyle -\\infty$"
      ],
      "text/plain": [
       "-oo"
      ]
     },
     "execution_count": 27,
     "metadata": {},
     "output_type": "execute_result"
    }
   ],
   "source": [
    "Limit(1/x, x, 0, dir='-').doit()   # 좌극한값 구하기"
   ]
  },
  {
   "cell_type": "markdown",
   "metadata": {},
   "source": [
    "좌극한은 dir='-' 를 포함해야함"
   ]
  },
  {
   "cell_type": "code",
   "execution_count": null,
   "metadata": {},
   "outputs": [],
   "source": []
  }
 ],
 "metadata": {
  "kernelspec": {
   "display_name": "Python 3",
   "language": "python",
   "name": "python3"
  },
  "language_info": {
   "codemirror_mode": {
    "name": "ipython",
    "version": 3
   },
   "file_extension": ".py",
   "mimetype": "text/x-python",
   "name": "python",
   "nbconvert_exporter": "python",
   "pygments_lexer": "ipython3",
   "version": "3.8.5"
  }
 },
 "nbformat": 4,
 "nbformat_minor": 4
}
